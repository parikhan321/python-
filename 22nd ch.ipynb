{
 "cells": [
  {
   "cell_type": "markdown",
   "metadata": {},
   "source": [
    "for loops nested"
   ]
  },
  {
   "cell_type": "code",
   "execution_count": 2,
   "metadata": {},
   "outputs": [
    {
     "data": {
      "text/plain": [
       "['pari  khan',\n",
       " 'pari  mustafa',\n",
       " 'pari  faiz',\n",
       " 'pari  zahid',\n",
       " 'zani  khan',\n",
       " 'zani  mustafa',\n",
       " 'zani  faiz',\n",
       " 'zani  zahid',\n",
       " 'nida  khan',\n",
       " 'nida  mustafa',\n",
       " 'nida  faiz',\n",
       " 'nida  zahid',\n",
       " 'kainat  khan',\n",
       " 'kainat  mustafa',\n",
       " 'kainat  faiz',\n",
       " 'kainat  zahid']"
      ]
     },
     "execution_count": 2,
     "metadata": {},
     "output_type": "execute_result"
    }
   ],
   "source": [
    "first = [\"pari\",\"zani\",\"nida\",\"kainat\"]\n",
    "last = [\"khan\",\"mustafa\",\"faiz\",\"zahid\"]\n",
    "full_name = []\n",
    "for  x in first:\n",
    "    for y in last:\n",
    "        full_name.append(x + \"  \" +y)\n",
    "full_name"
   ]
  },
  {
   "cell_type": "code",
   "execution_count": null,
   "metadata": {},
   "outputs": [],
   "source": []
  },
  {
   "cell_type": "code",
   "execution_count": null,
   "metadata": {},
   "outputs": [],
   "source": []
  }
 ],
 "metadata": {
  "kernelspec": {
   "display_name": "Python 3",
   "language": "python",
   "name": "python3"
  },
  "language_info": {
   "codemirror_mode": {
    "name": "ipython",
    "version": 3
   },
   "file_extension": ".py",
   "mimetype": "text/x-python",
   "name": "python",
   "nbconvert_exporter": "python",
   "pygments_lexer": "ipython3",
   "version": "3.7.1"
  }
 },
 "nbformat": 4,
 "nbformat_minor": 2
}
