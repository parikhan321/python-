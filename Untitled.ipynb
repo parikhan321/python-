{
 "cells": [
  {
   "cell_type": "code",
   "execution_count": 5,
   "metadata": {},
   "outputs": [
    {
     "name": "stdout",
     "output_type": "stream",
     "text": [
      "It's one of the cleanest city is islamabad\n"
     ]
    }
   ],
   "source": [
    "city_to_check = \"islamabad\"\n",
    "\n",
    "cleanest_cities = [\"peshawer\", \"islamabad\", \"faislabad\", \"gujrat\", \"sarghoda\"]\n",
    "\n",
    "#Now you go through the list to see if the city in question is on the list. If it is, you display the good news. This is one way to do it:\n",
    "\n",
    "if city_to_check == cleanest_cities[0]:\n",
    "    print(\"It's one of the cleanest city is islamad\")\n",
    "elif city_to_check == cleanest_cities[1]:\n",
    "    print(\"It's one of the cleanest city is islamabad\")\n",
    "elif city_to_check == cleanest_cities[2]:\n",
    "    print(\"It's one of the cleanest city is islamabad\")\n",
    "elif city_to_check == cleanest_cities[3]:\n",
    "    print(\"It's one of the cleanest city is islamabad\")\n",
    "elif city_to_check == cleanest_cities[4]:\n",
    "    print(\"It's one of the cleanest city is islamabad\")"
   ]
  },
  {
   "cell_type": "code",
   "execution_count": null,
   "metadata": {},
   "outputs": [],
   "source": []
  }
 ],
 "metadata": {
  "kernelspec": {
   "display_name": "Python 3",
   "language": "python",
   "name": "python3"
  },
  "language_info": {
   "codemirror_mode": {
    "name": "ipython",
    "version": 3
   },
   "file_extension": ".py",
   "mimetype": "text/x-python",
   "name": "python",
   "nbconvert_exporter": "python",
   "pygments_lexer": "ipython3",
   "version": "3.7.1"
  }
 },
 "nbformat": 4,
 "nbformat_minor": 2
}
